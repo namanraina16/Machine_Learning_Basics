{
 "cells": [
  {
   "cell_type": "code",
   "execution_count": 36,
   "metadata": {},
   "outputs": [],
   "source": [
    "import numpy as np\n",
    "dimX = 10\n",
    "def get_Q_b_c (n):\n",
    "    Q = np.random.rand(n ,n)-0.5\n",
    "    Q = 10*Q @ Q.T \n",
    "    b = 5*(np.random.rand(n)-0.5)\n",
    "    c = 2*(np.random.rand(1)-0.5)\n",
    "    return Q ,b ,c\n",
    "# Example :\n",
    "Q ,b , c = get_Q_b_c (dimX)\n"
   ]
  },
  {
   "cell_type": "code",
   "execution_count": 37,
   "metadata": {},
   "outputs": [],
   "source": [
    "# getting alpha\n",
    "vals = np.linalg.eigvals(Q)\n",
    "m = vals[-1]\n",
    "L = vals[0]\n",
    "# alpha = m/L**2\n",
    "# print(m/L**2)\n",
    "# print(1/L)\n",
    "if m/L < 2/L:\n",
    "    alpha = m/L\n",
    "else:\n",
    "    alpha = m/L**2"
   ]
  },
  {
   "cell_type": "code",
   "execution_count": 38,
   "metadata": {},
   "outputs": [],
   "source": [
    "#setting epsilon and x0\n",
    "xinit = np.random.rand(dimX)\n",
    "# np.random.seed(0)"
   ]
  },
  {
   "cell_type": "code",
   "execution_count": 39,
   "metadata": {},
   "outputs": [],
   "source": [
    "epsilon = 1e-2"
   ]
  },
  {
   "cell_type": "code",
   "execution_count": 40,
   "metadata": {},
   "outputs": [],
   "source": [
    "def getGrad(x):\n",
    "    return 2* Q @ x + b\n",
    "\n",
    "def getVal(x):\n",
    "    return (x.T @ Q @ x + b.T @ x + c)"
   ]
  },
  {
   "cell_type": "code",
   "execution_count": 41,
   "metadata": {},
   "outputs": [],
   "source": [
    "#function 1\n",
    "MAXiter = 10e5\n",
    "def constAlpha(epsilon, x0, stepsize):\n",
    "    count = 0\n",
    "    xstar = x0\n",
    "\n",
    "    while np.linalg.norm(getGrad(xstar)) > epsilon and count <= MAXiter:\n",
    "        xstar = xstar - stepsize * getGrad(xstar)\n",
    "        count+=1\n",
    "    return (xstar, getVal(xstar), epsilon, count, np.linalg.norm(getGrad(xstar)))\n",
    "    "
   ]
  },
  {
   "cell_type": "code",
   "execution_count": 42,
   "metadata": {},
   "outputs": [
    {
     "name": "stdout",
     "output_type": "stream",
     "text": [
      "-------------CONSTANT STEPSIZE-------------\n",
      "xstar:  [ 8.27388902  9.9457133  -6.02542921 -4.89149366 -4.83246149 -3.40264393\n",
      "  0.44893927  4.61426784  4.2116936   1.10752588] \n",
      "F(xstar):  [-3.72645518] \n",
      "epsilon:  0.01 \n",
      "iterations:  52782 \n",
      "grad(xstar):  0.009999418871149293\n"
     ]
    }
   ],
   "source": [
    "temp = constAlpha(epsilon,xinit,alpha)\n",
    "print(\"-------------CONSTANT STEPSIZE-------------\")\n",
    "print(\"xstar: \", temp[0], \"\\nF(xstar): \", temp[1], \"\\nepsilon: \", temp[2], \"\\niterations: \", temp[3], \"\\ngrad(xstar): \", temp[4])\n"
   ]
  },
  {
   "cell_type": "code",
   "execution_count": 51,
   "metadata": {},
   "outputs": [],
   "source": [
    "#part 2\n",
    "def armijo(epsilon, x0, stepsize, beta, sigma):\n",
    "    count = 0\n",
    "    xstar = x0\n",
    "    alphak = stepsize # equals alpha*beta**m\n",
    "\n",
    "    while np.linalg.norm(getGrad(xstar)) > epsilon and count <= MAXiter:\n",
    "        while(getVal(xstar - alphak * getGrad(xstar)) > getVal(xstar) - sigma*alphak*np.linalg.norm(getGrad(xstar))**2):\n",
    "            print('good')\n",
    "            alphak *= beta\n",
    "        xstar = xstar - alphak * getGrad(xstar)\n",
    "        count+=1\n",
    "    return (xstar, getVal(xstar), epsilon, count, np.linalg.norm(getGrad(xstar)))"
   ]
  },
  {
   "cell_type": "code",
   "execution_count": 58,
   "metadata": {},
   "outputs": [
    {
     "name": "stdout",
     "output_type": "stream",
     "text": [
      "-------------Armijo's Rule-------------\n",
      "xstar:  [ 8.27388902  9.9457133  -6.02542921 -4.89149366 -4.83246149 -3.40264393\n",
      "  0.44893927  4.61426784  4.2116936   1.10752588] \n",
      "F(xstar):  [-3.72645518] \n",
      "epsilon:  0.01 \n",
      "iterations:  52782 \n",
      "grad(xstar):  0.009999418871149293\n"
     ]
    }
   ],
   "source": [
    "armijoalpha = alpha\n",
    "beta = .2\n",
    "sigma = 1e-1\n",
    "temp = armijo(epsilon,xinit,armijoalpha, beta, sigma)\n",
    "print(\"-------------Armijo's Rule-------------\")\n",
    "print(\"xstar: \", temp[0], \"\\nF(xstar): \", temp[1], \"\\nepsilon: \", temp[2], \"\\niterations: \", temp[3], \"\\ngrad(xstar): \", temp[4])"
   ]
  },
  {
   "cell_type": "code",
   "execution_count": 45,
   "metadata": {},
   "outputs": [
    {
     "name": "stdout",
     "output_type": "stream",
     "text": [
      "-------------Correct Value-------------\n",
      "xstar:  [ 8.51892598 10.21969817 -6.20289211 -5.03430181 -4.96393409 -3.5022408\n",
      "  0.47104085  4.74199089  4.32462657  1.13489519]  \n",
      " F(xstar):  [-3.72892742] \n",
      " Gradient:  1.415447712811308e-13\n"
     ]
    }
   ],
   "source": [
    "#part 3\n",
    "\n",
    "actualmin = -1/2* np.linalg.inv(Q) @ b\n",
    "\n",
    "print(\"-------------Correct Value-------------\")\n",
    "print(\"xstar: \", actualmin, \" \\n F(xstar): \", getVal(actualmin), \"\\n Gradient: \", np.linalg.norm(getGrad(actualmin)))"
   ]
  },
  {
   "cell_type": "code",
   "execution_count": null,
   "metadata": {},
   "outputs": [],
   "source": []
  },
  {
   "cell_type": "code",
   "execution_count": null,
   "metadata": {},
   "outputs": [],
   "source": []
  }
 ],
 "metadata": {
  "kernelspec": {
   "display_name": "Python 3",
   "language": "python",
   "name": "python3"
  },
  "language_info": {
   "codemirror_mode": {
    "name": "ipython",
    "version": 3
   },
   "file_extension": ".py",
   "mimetype": "text/x-python",
   "name": "python",
   "nbconvert_exporter": "python",
   "pygments_lexer": "ipython3",
   "version": "3.10.10"
  },
  "orig_nbformat": 4,
  "vscode": {
   "interpreter": {
    "hash": "424e43c892584a3934499bed8929b7e7dcffd929ec38f2a3206c0edb663973d2"
   }
  }
 },
 "nbformat": 4,
 "nbformat_minor": 2
}
